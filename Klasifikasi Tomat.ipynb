{
 "cells": [
  {
   "cell_type": "markdown",
   "id": "8ff78d16-afb6-40bf-aa20-6c884072d102",
   "metadata": {},
   "source": [
    "# Klasifikasi Tomat\n",
    "\n",
    "Step by Step membuat klasifikasi tomat apakah termasuk ke dalam grade **Ekspor,Lokal premium,atau industri**\n",
    "\n",
    "Grade :\n",
    "1. Ekspor = grade tertinggi, untuk ekspor\n",
    "2. Lokal Premium = grade menengah, untuk didistribusikan ke swalayan/toko\n",
    "3. industri = grade terbawah, untuk dikirim ke pabrik saos tomat "
   ]
  },
  {
   "cell_type": "code",
   "execution_count": 2,
   "id": "8baa8476-b684-4a3b-903c-89ae9ee30e90",
   "metadata": {},
   "outputs": [
    {
     "data": {
      "text/html": [
       "<div>\n",
       "<style scoped>\n",
       "    .dataframe tbody tr th:only-of-type {\n",
       "        vertical-align: middle;\n",
       "    }\n",
       "\n",
       "    .dataframe tbody tr th {\n",
       "        vertical-align: top;\n",
       "    }\n",
       "\n",
       "    .dataframe thead th {\n",
       "        text-align: right;\n",
       "    }\n",
       "</style>\n",
       "<table border=\"1\" class=\"dataframe\">\n",
       "  <thead>\n",
       "    <tr style=\"text-align: right;\">\n",
       "      <th></th>\n",
       "      <th>berat</th>\n",
       "      <th>kekenyalan</th>\n",
       "      <th>kadar_gula</th>\n",
       "      <th>tebal_kulit</th>\n",
       "      <th>grade</th>\n",
       "    </tr>\n",
       "  </thead>\n",
       "  <tbody>\n",
       "    <tr>\n",
       "      <th>0</th>\n",
       "      <td>95</td>\n",
       "      <td>8.5</td>\n",
       "      <td>4.8</td>\n",
       "      <td>0.85</td>\n",
       "      <td>Ekspor</td>\n",
       "    </tr>\n",
       "    <tr>\n",
       "      <th>1</th>\n",
       "      <td>88</td>\n",
       "      <td>9.2</td>\n",
       "      <td>5.1</td>\n",
       "      <td>0.90</td>\n",
       "      <td>Ekspor</td>\n",
       "    </tr>\n",
       "    <tr>\n",
       "      <th>2</th>\n",
       "      <td>102</td>\n",
       "      <td>8.8</td>\n",
       "      <td>4.9</td>\n",
       "      <td>0.82</td>\n",
       "      <td>Ekspor</td>\n",
       "    </tr>\n",
       "    <tr>\n",
       "      <th>3</th>\n",
       "      <td>110</td>\n",
       "      <td>8.1</td>\n",
       "      <td>4.6</td>\n",
       "      <td>0.88</td>\n",
       "      <td>Ekspor</td>\n",
       "    </tr>\n",
       "    <tr>\n",
       "      <th>4</th>\n",
       "      <td>92</td>\n",
       "      <td>9.0</td>\n",
       "      <td>5.0</td>\n",
       "      <td>0.87</td>\n",
       "      <td>Ekspor</td>\n",
       "    </tr>\n",
       "    <tr>\n",
       "      <th>...</th>\n",
       "      <td>...</td>\n",
       "      <td>...</td>\n",
       "      <td>...</td>\n",
       "      <td>...</td>\n",
       "      <td>...</td>\n",
       "    </tr>\n",
       "    <tr>\n",
       "      <th>85</th>\n",
       "      <td>180</td>\n",
       "      <td>4.2</td>\n",
       "      <td>3.0</td>\n",
       "      <td>0.57</td>\n",
       "      <td>Industri</td>\n",
       "    </tr>\n",
       "    <tr>\n",
       "      <th>86</th>\n",
       "      <td>208</td>\n",
       "      <td>3.4</td>\n",
       "      <td>2.8</td>\n",
       "      <td>0.53</td>\n",
       "      <td>Industri</td>\n",
       "    </tr>\n",
       "    <tr>\n",
       "      <th>87</th>\n",
       "      <td>172</td>\n",
       "      <td>4.7</td>\n",
       "      <td>3.2</td>\n",
       "      <td>0.59</td>\n",
       "      <td>Industri</td>\n",
       "    </tr>\n",
       "    <tr>\n",
       "      <th>88</th>\n",
       "      <td>188</td>\n",
       "      <td>4.0</td>\n",
       "      <td>2.9</td>\n",
       "      <td>0.56</td>\n",
       "      <td>Industri</td>\n",
       "    </tr>\n",
       "    <tr>\n",
       "      <th>89</th>\n",
       "      <td>198</td>\n",
       "      <td>3.6</td>\n",
       "      <td>2.6</td>\n",
       "      <td>0.54</td>\n",
       "      <td>Industri</td>\n",
       "    </tr>\n",
       "  </tbody>\n",
       "</table>\n",
       "<p>90 rows × 5 columns</p>\n",
       "</div>"
      ],
      "text/plain": [
       "    berat  kekenyalan  kadar_gula  tebal_kulit     grade\n",
       "0      95         8.5         4.8         0.85    Ekspor\n",
       "1      88         9.2         5.1         0.90    Ekspor\n",
       "2     102         8.8         4.9         0.82    Ekspor\n",
       "3     110         8.1         4.6         0.88    Ekspor\n",
       "4      92         9.0         5.0         0.87    Ekspor\n",
       "..    ...         ...         ...          ...       ...\n",
       "85    180         4.2         3.0         0.57  Industri\n",
       "86    208         3.4         2.8         0.53  Industri\n",
       "87    172         4.7         3.2         0.59  Industri\n",
       "88    188         4.0         2.9         0.56  Industri\n",
       "89    198         3.6         2.6         0.54  Industri\n",
       "\n",
       "[90 rows x 5 columns]"
      ]
     },
     "execution_count": 2,
     "metadata": {},
     "output_type": "execute_result"
    }
   ],
   "source": [
    "# mengimport pandas dan dataset\n",
    "import pandas as pd\n",
    "\n",
    "df = pd.read_csv(\"dataset_tomat.csv\")\n",
    "df"
   ]
  },
  {
   "cell_type": "code",
   "execution_count": 3,
   "id": "2ab90f84-14b7-414b-bac3-5b1458ab2638",
   "metadata": {},
   "outputs": [
    {
     "data": {
      "text/plain": [
       "(90, 5)"
      ]
     },
     "execution_count": 3,
     "metadata": {},
     "output_type": "execute_result"
    }
   ],
   "source": [
    "# menampilkan jumlah baris dan kolom\n",
    "df.shape"
   ]
  },
  {
   "cell_type": "code",
   "execution_count": 4,
   "id": "df6475ee-7f44-4d63-982d-2c975a771b1e",
   "metadata": {},
   "outputs": [
    {
     "data": {
      "text/plain": [
       "Index(['berat', 'kekenyalan', 'kadar_gula', 'tebal_kulit', 'grade'], dtype='object')"
      ]
     },
     "execution_count": 4,
     "metadata": {},
     "output_type": "execute_result"
    }
   ],
   "source": [
    "# menampilkan kolom kolom di atas frame\n",
    "df.columns"
   ]
  },
  {
   "cell_type": "code",
   "execution_count": 5,
   "id": "7b9322de-40d3-4770-b53b-ff963fe4322f",
   "metadata": {},
   "outputs": [
    {
     "data": {
      "text/plain": [
       "berat            int64\n",
       "kekenyalan     float64\n",
       "kadar_gula     float64\n",
       "tebal_kulit    float64\n",
       "grade           object\n",
       "dtype: object"
      ]
     },
     "execution_count": 5,
     "metadata": {},
     "output_type": "execute_result"
    }
   ],
   "source": [
    "# menampilkan kolom berserta tipe datanya\n",
    "df.dtypes"
   ]
  },
  {
   "cell_type": "code",
   "execution_count": 6,
   "id": "413f6b11-b5bf-455b-b038-71ded59ab728",
   "metadata": {},
   "outputs": [
    {
     "data": {
      "text/html": [
       "<div>\n",
       "<style scoped>\n",
       "    .dataframe tbody tr th:only-of-type {\n",
       "        vertical-align: middle;\n",
       "    }\n",
       "\n",
       "    .dataframe tbody tr th {\n",
       "        vertical-align: top;\n",
       "    }\n",
       "\n",
       "    .dataframe thead th {\n",
       "        text-align: right;\n",
       "    }\n",
       "</style>\n",
       "<table border=\"1\" class=\"dataframe\">\n",
       "  <thead>\n",
       "    <tr style=\"text-align: right;\">\n",
       "      <th></th>\n",
       "      <th>berat</th>\n",
       "      <th>kekenyalan</th>\n",
       "      <th>kadar_gula</th>\n",
       "      <th>tebal_kulit</th>\n",
       "      <th>grade</th>\n",
       "    </tr>\n",
       "  </thead>\n",
       "  <tbody>\n",
       "    <tr>\n",
       "      <th>0</th>\n",
       "      <td>95</td>\n",
       "      <td>8.5</td>\n",
       "      <td>4.8</td>\n",
       "      <td>0.85</td>\n",
       "      <td>Ekspor</td>\n",
       "    </tr>\n",
       "    <tr>\n",
       "      <th>1</th>\n",
       "      <td>88</td>\n",
       "      <td>9.2</td>\n",
       "      <td>5.1</td>\n",
       "      <td>0.90</td>\n",
       "      <td>Ekspor</td>\n",
       "    </tr>\n",
       "    <tr>\n",
       "      <th>2</th>\n",
       "      <td>102</td>\n",
       "      <td>8.8</td>\n",
       "      <td>4.9</td>\n",
       "      <td>0.82</td>\n",
       "      <td>Ekspor</td>\n",
       "    </tr>\n",
       "  </tbody>\n",
       "</table>\n",
       "</div>"
      ],
      "text/plain": [
       "   berat  kekenyalan  kadar_gula  tebal_kulit   grade\n",
       "0     95         8.5         4.8         0.85  Ekspor\n",
       "1     88         9.2         5.1         0.90  Ekspor\n",
       "2    102         8.8         4.9         0.82  Ekspor"
      ]
     },
     "execution_count": 6,
     "metadata": {},
     "output_type": "execute_result"
    }
   ],
   "source": [
    "# menampilkan 3 data teratas\n",
    "df.head(3)"
   ]
  },
  {
   "cell_type": "code",
   "execution_count": 7,
   "id": "e922318b-d1d8-469f-8056-6914bb68df35",
   "metadata": {},
   "outputs": [
    {
     "data": {
      "text/html": [
       "<div>\n",
       "<style scoped>\n",
       "    .dataframe tbody tr th:only-of-type {\n",
       "        vertical-align: middle;\n",
       "    }\n",
       "\n",
       "    .dataframe tbody tr th {\n",
       "        vertical-align: top;\n",
       "    }\n",
       "\n",
       "    .dataframe thead th {\n",
       "        text-align: right;\n",
       "    }\n",
       "</style>\n",
       "<table border=\"1\" class=\"dataframe\">\n",
       "  <thead>\n",
       "    <tr style=\"text-align: right;\">\n",
       "      <th></th>\n",
       "      <th>berat</th>\n",
       "      <th>kekenyalan</th>\n",
       "      <th>kadar_gula</th>\n",
       "      <th>tebal_kulit</th>\n",
       "      <th>grade</th>\n",
       "    </tr>\n",
       "  </thead>\n",
       "  <tbody>\n",
       "    <tr>\n",
       "      <th>87</th>\n",
       "      <td>172</td>\n",
       "      <td>4.7</td>\n",
       "      <td>3.2</td>\n",
       "      <td>0.59</td>\n",
       "      <td>Industri</td>\n",
       "    </tr>\n",
       "    <tr>\n",
       "      <th>88</th>\n",
       "      <td>188</td>\n",
       "      <td>4.0</td>\n",
       "      <td>2.9</td>\n",
       "      <td>0.56</td>\n",
       "      <td>Industri</td>\n",
       "    </tr>\n",
       "    <tr>\n",
       "      <th>89</th>\n",
       "      <td>198</td>\n",
       "      <td>3.6</td>\n",
       "      <td>2.6</td>\n",
       "      <td>0.54</td>\n",
       "      <td>Industri</td>\n",
       "    </tr>\n",
       "  </tbody>\n",
       "</table>\n",
       "</div>"
      ],
      "text/plain": [
       "    berat  kekenyalan  kadar_gula  tebal_kulit     grade\n",
       "87    172         4.7         3.2         0.59  Industri\n",
       "88    188         4.0         2.9         0.56  Industri\n",
       "89    198         3.6         2.6         0.54  Industri"
      ]
     },
     "execution_count": 7,
     "metadata": {},
     "output_type": "execute_result"
    }
   ],
   "source": [
    "# menampilkan 3 data terbawah\n",
    "df.tail(3)"
   ]
  },
  {
   "cell_type": "code",
   "execution_count": 9,
   "id": "46f786b5-fa8e-436a-8a06-4833101a980c",
   "metadata": {},
   "outputs": [
    {
     "data": {
      "text/plain": [
       "grade\n",
       "Ekspor           30\n",
       "Lokal Premium    30\n",
       "Industri         30\n",
       "Name: count, dtype: int64"
      ]
     },
     "execution_count": 9,
     "metadata": {},
     "output_type": "execute_result"
    }
   ],
   "source": [
    "# menampilan isian kolom grade berserta jumlah masing masing\n",
    "df[\"grade\"].value_counts()"
   ]
  },
  {
   "cell_type": "code",
   "execution_count": 10,
   "id": "4e460642-e9e7-46c8-905d-e7770ac35cdc",
   "metadata": {},
   "outputs": [
    {
     "data": {
      "text/plain": [
       "<bound method DataFrame.info of     berat  kekenyalan  kadar_gula  tebal_kulit     grade\n",
       "0      95         8.5         4.8         0.85    Ekspor\n",
       "1      88         9.2         5.1         0.90    Ekspor\n",
       "2     102         8.8         4.9         0.82    Ekspor\n",
       "3     110         8.1         4.6         0.88    Ekspor\n",
       "4      92         9.0         5.0         0.87    Ekspor\n",
       "..    ...         ...         ...          ...       ...\n",
       "85    180         4.2         3.0         0.57  Industri\n",
       "86    208         3.4         2.8         0.53  Industri\n",
       "87    172         4.7         3.2         0.59  Industri\n",
       "88    188         4.0         2.9         0.56  Industri\n",
       "89    198         3.6         2.6         0.54  Industri\n",
       "\n",
       "[90 rows x 5 columns]>"
      ]
     },
     "execution_count": 10,
     "metadata": {},
     "output_type": "execute_result"
    }
   ],
   "source": [
    "# menampilkan  struktur data frame\n",
    "df.info"
   ]
  },
  {
   "cell_type": "code",
   "execution_count": 11,
   "id": "0a4e071c-225a-438e-b271-32eed7869994",
   "metadata": {},
   "outputs": [
    {
     "data": {
      "text/html": [
       "<div>\n",
       "<style scoped>\n",
       "    .dataframe tbody tr th:only-of-type {\n",
       "        vertical-align: middle;\n",
       "    }\n",
       "\n",
       "    .dataframe tbody tr th {\n",
       "        vertical-align: top;\n",
       "    }\n",
       "\n",
       "    .dataframe thead th {\n",
       "        text-align: right;\n",
       "    }\n",
       "</style>\n",
       "<table border=\"1\" class=\"dataframe\">\n",
       "  <thead>\n",
       "    <tr style=\"text-align: right;\">\n",
       "      <th></th>\n",
       "      <th>berat</th>\n",
       "      <th>kekenyalan</th>\n",
       "      <th>kadar_gula</th>\n",
       "      <th>tebal_kulit</th>\n",
       "    </tr>\n",
       "  </thead>\n",
       "  <tbody>\n",
       "    <tr>\n",
       "      <th>count</th>\n",
       "      <td>90.000000</td>\n",
       "      <td>90.000000</td>\n",
       "      <td>90.000000</td>\n",
       "      <td>90.000000</td>\n",
       "    </tr>\n",
       "    <tr>\n",
       "      <th>mean</th>\n",
       "      <td>142.388889</td>\n",
       "      <td>6.547778</td>\n",
       "      <td>3.956667</td>\n",
       "      <td>0.721778</td>\n",
       "    </tr>\n",
       "    <tr>\n",
       "      <th>std</th>\n",
       "      <td>37.919398</td>\n",
       "      <td>1.933456</td>\n",
       "      <td>0.785265</td>\n",
       "      <td>0.126461</td>\n",
       "    </tr>\n",
       "    <tr>\n",
       "      <th>min</th>\n",
       "      <td>85.000000</td>\n",
       "      <td>3.400000</td>\n",
       "      <td>2.600000</td>\n",
       "      <td>0.510000</td>\n",
       "    </tr>\n",
       "    <tr>\n",
       "      <th>25%</th>\n",
       "      <td>104.250000</td>\n",
       "      <td>4.525000</td>\n",
       "      <td>3.225000</td>\n",
       "      <td>0.592500</td>\n",
       "    </tr>\n",
       "    <tr>\n",
       "      <th>50%</th>\n",
       "      <td>143.000000</td>\n",
       "      <td>6.850000</td>\n",
       "      <td>4.000000</td>\n",
       "      <td>0.730000</td>\n",
       "    </tr>\n",
       "    <tr>\n",
       "      <th>75%</th>\n",
       "      <td>175.500000</td>\n",
       "      <td>8.375000</td>\n",
       "      <td>4.700000</td>\n",
       "      <td>0.847500</td>\n",
       "    </tr>\n",
       "    <tr>\n",
       "      <th>max</th>\n",
       "      <td>210.000000</td>\n",
       "      <td>9.400000</td>\n",
       "      <td>5.200000</td>\n",
       "      <td>0.920000</td>\n",
       "    </tr>\n",
       "  </tbody>\n",
       "</table>\n",
       "</div>"
      ],
      "text/plain": [
       "            berat  kekenyalan  kadar_gula  tebal_kulit\n",
       "count   90.000000   90.000000   90.000000    90.000000\n",
       "mean   142.388889    6.547778    3.956667     0.721778\n",
       "std     37.919398    1.933456    0.785265     0.126461\n",
       "min     85.000000    3.400000    2.600000     0.510000\n",
       "25%    104.250000    4.525000    3.225000     0.592500\n",
       "50%    143.000000    6.850000    4.000000     0.730000\n",
       "75%    175.500000    8.375000    4.700000     0.847500\n",
       "max    210.000000    9.400000    5.200000     0.920000"
      ]
     },
     "execution_count": 11,
     "metadata": {},
     "output_type": "execute_result"
    }
   ],
   "source": [
    "# menampilkan statistik dataframe\n",
    "df.describe()"
   ]
  },
  {
   "cell_type": "code",
   "execution_count": 30,
   "id": "d9d12afa-c181-4277-85a8-448e0d525aba",
   "metadata": {},
   "outputs": [
    {
     "data": {
      "image/png": "[encoded data removed]",
      "text/plain": [
       "<Figure size 600x500 with 1 Axes>"
      ]
     },
     "metadata": {},
     "output_type": "display_data"
    }
   ],
   "source": [
    "# visualisasi data dengan matplotlib\n",
    "# import matplotlib\n",
    "import matplotlib.pyplot as plt\n",
    "\n",
    "# siapkan data yang akan divisualisasikan\n",
    "ekspor = df[df[\"grade\"]==\"Ekspor\"]\n",
    "lokal_premium = df[df[\"grade\"] == \"Lokal Premium\"]\n",
    "industri = df[df[\"grade\"] == \"Industri\"]\n",
    "\n",
    "# buat ukuran bingkai / figura\n",
    "plt.figure(figsize=(6,5))\n",
    "\n",
    "plt.scatter(ekspor[\"berat\"], ekspor[\"kekenyalan\"] ,s=100, alpha=0.7, color=\"red\", label=\"Ekspor\")\n",
    "plt.scatter(lokal_premium[\"berat\"], lokal_premium[\"kekenyalan\"] ,s=100, alpha=0.7, color=\"green\", label=\"Lokal Premium\")\n",
    "plt.scatter(industri[\"berat\"], industri[\"kekenyalan\"] ,s=100, alpha=0.7, color=\"blue\", label=\"Industri\")\n",
    "\n",
    "plt.xlabel(\"berat\")\n",
    "plt.ylabel(\"kekenyalan\")\n",
    "plt.title(\"berat vs kekenyalan\")\n",
    "plt.legend()\n",
    "plt.grid(True,linestyle=\"--\",alpha=0.5)\n",
    "plt.show()"
   ]
  },
  {
   "cell_type": "code",
   "execution_count": 31,
   "id": "ec5aed0a-d9ff-44b4-ac59-951cfc15b650",
   "metadata": {},
   "outputs": [
    {
     "data": {
      "image/png": "[encoded data removed]",
      "text/plain": [
       "<Figure size 600x500 with 1 Axes>"
      ]
     },
     "metadata": {},
     "output_type": "display_data"
    }
   ],
   "source": [
    "# visualisasi data dengan matplotlib\n",
    "# import matplotlib\n",
    "import matplotlib.pyplot as plt\n",
    "\n",
    "# siapkan data yang akan divisualisasikan\n",
    "ekspor = df[df[\"grade\"]==\"Ekspor\"]\n",
    "lokal_premium = df[df[\"grade\"] == \"Lokal Premium\"]\n",
    "industri = df[df[\"grade\"] == \"Industri\"]\n",
    "\n",
    "# buat ukuran bingkai / figura\n",
    "plt.figure(figsize=(6,5))\n",
    "\n",
    "plt.scatter(ekspor[\"kadar_gula\"], ekspor[\"tebal_kulit\"] ,s=100, alpha=0.7, color=\"red\", label=\"Ekspor\")\n",
    "plt.scatter(lokal_premium[\"kadar_gula\"], lokal_premium[\"tebal_kulit\"] ,s=100, alpha=0.7, color=\"green\", label=\"Lokal Premium\")\n",
    "plt.scatter(industri[\"kadar_gula\"], industri[\"tebal_kulit\"] ,s=100, alpha=0.7, color=\"blue\", label=\"Industri\")\n",
    "\n",
    "plt.xlabel(\"kadar gula\")\n",
    "plt.ylabel(\"tebal kulit\")\n",
    "plt.title(\"kadar gula vs tebal kulit\")\n",
    "plt.legend()\n",
    "plt.grid(True,linestyle=\"--\",alpha=0.5)\n",
    "plt.show()"
   ]
  },
  {
   "cell_type": "code",
   "execution_count": 60,
   "id": "378a7b9e-dab1-4b25-aaf7-7d209959fdc2",
   "metadata": {},
   "outputs": [
    {
     "name": "stdout",
     "output_type": "stream",
     "text": [
      "Akurasi : 1.0\n"
     ]
    }
   ],
   "source": [
    "#import library yang dibutuhkan \n",
    "# 'sediakan alat'\n",
    "from sklearn.linear_model import LogisticRegression\n",
    "from sklearn.model_selection import train_test_split\n",
    "from sklearn.metrics import accuracy_score\n",
    "from sklearn.preprocessing import StandardScaler\n",
    "\n",
    "#siapkan features dan target/label\n",
    "# 'siapkanb bahan'\n",
    "\n",
    "#kolom untuk features\n",
    "X = df[[\"berat\",\"kekenyalan\",\"kadar_gula\",\"tebal_kulit\"]]\n",
    "\n",
    "#kolom untuk target\n",
    "y = df[\"grade\"]\n",
    "\n",
    "#pisahkan X dan y menjadi data latih dan data tes\n",
    "X_train, X_test, y_train, y_test = train_test_split(X,y,test_size=0.2,random_state=42)\n",
    "\n",
    "#siapkan scaler\n",
    "#'siapkan pengompres angkanya'\n",
    "scaler = StandardScaler()\n",
    "X_train_scaled = scaler.fit_transform(X_train)\n",
    "X_test_scaled = scaler.transform(X_test)\n",
    "\n",
    "#buat algortitma machine learning nya\n",
    "#'buat otak baru'\n",
    "model = LogisticRegression()\n",
    "\n",
    "#'suruh otak belajar dari latihan soal + kunci latihan'\n",
    "model.fit(X_train_scaled, y_train)\n",
    "\n",
    "#'suruh ota ulangan, simpan jawabannnya di y_pred\n",
    "y_pred = model.predict(X_test_scaled)\n",
    "\n",
    "#'bandingkan kunci jaawwaban dengan jawaban ulangannnya'\n",
    "print(\"Akurasi :\", accuracy_score(y_test, y_pred))"
   ]
  },
  {
   "cell_type": "code",
   "execution_count": 61,
   "id": "ab52ffa0-844c-44e7-b723-8ac60c280801",
   "metadata": {},
   "outputs": [
    {
     "data": {
      "text/plain": [
       "array(['Ekspor', 'Industri', 'Lokal Premium'], dtype=object)"
      ]
     },
     "execution_count": 61,
     "metadata": {},
     "output_type": "execute_result"
    }
   ],
   "source": [
    "model.classes_"
   ]
  },
  {
   "cell_type": "code",
   "execution_count": 67,
   "id": "1c403859-fcb2-4023-ac56-3680e6c10618",
   "metadata": {},
   "outputs": [
    {
     "name": "stdout",
     "output_type": "stream",
     "text": [
      "Ekspor\n",
      "['Ekspor' 'Industri' 'Lokal Premium']\n",
      "[9.99784653e-01 1.91400749e-09 2.15344632e-04]\n",
      "----------------\n",
      "model memprediksiEkspordengan tingkat keyakinan 99.98%\n"
     ]
    }
   ],
   "source": [
    "data_baru = pd.DataFrame([[85,8.5,8.0,0.8]],columns=[\"berat\",\"kekenyalan\",\"kadar_gula\",\"tebal_kulit\"])\n",
    "data_baru_scaled = scaler.transform(data_baru)\n",
    "print (model.predict(data_baru_scaled)[0])\n",
    "print (model.classes_)\n",
    "print (model.predict_proba(data_baru_scaled)[0])\n",
    "print (\"----------------\")\n",
    "\n",
    "# kode yang akan sering di gunakan\n",
    "\n",
    "prediksi = model.predict(data_baru_scaled)[0]\n",
    "presentase = max(model.predict_proba(data_baru_scaled)[0])\n",
    "print(f\"model memprediksi{prediksi}dengan tingkat keyakinan {presentase*100:.2f}%\")"
   ]
  },
  {
   "cell_type": "code",
   "execution_count": 68,
   "id": "5a3b0848-b7ca-4905-a784-b478080e9aba",
   "metadata": {},
   "outputs": [
    {
     "data": {
      "text/plain": [
       "['scaler_klasifikasi_tomat.joblib']"
      ]
     },
     "execution_count": 68,
     "metadata": {},
     "output_type": "execute_result"
    }
   ],
   "source": [
    "import joblib\n",
    "\n",
    "joblib.dump(model, \"model_klasifikasi_tomat.joblib\")\n",
    "joblib.dump(scaler, \"scaler_klasifikasi_tomat.joblib\")"
   ]
  },
  {
   "cell_type": "code",
   "execution_count": null,
   "id": "9147d0a8-698a-440b-ab75-98705a572a32",
   "metadata": {},
   "outputs": [],
   "source": []
  }
 ],
 "metadata": {
  "kernelspec": {
   "display_name": "Python 3 (ipykernel)",
   "language": "python",
   "name": "python3"
  },
  "language_info": {
   "codemirror_mode": {
    "name": "ipython",
    "version": 3
   },
   "file_extension": ".py",
   "mimetype": "text/x-python",
   "name": "python",
   "nbconvert_exporter": "python",
   "pygments_lexer": "ipython3",
   "version": "3.13.7"
  }
 },
 "nbformat": 4,
 "nbformat_minor": 5
}
